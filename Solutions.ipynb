{
 "cells": [
  {
   "cell_type": "markdown",
   "id": "5a37bb75",
   "metadata": {},
   "source": [
    "## Apply SMOTE for upsampling the data"
   ]
  },
  {
   "cell_type": "code",
   "execution_count": 55,
   "id": "5d66768a",
   "metadata": {},
   "outputs": [],
   "source": [
    "import pandas as pd\n",
    "import seaborn as sns\n",
    "import matplotlib.pyplot as plt\n",
    "import numpy as np\n",
    "from sklearn.linear_model import LinearRegression\n",
    "from sklearn.linear_model import LogisticRegression\n",
    "from sklearn.neural_network import MLPRegressor\n",
    "from sklearn.model_selection import train_test_split\n",
    "from sklearn.preprocessing import StandardScaler\n",
    "from sklearn.preprocessing import OneHotEncoder, Normalizer, LabelEncoder\n",
    "from sklearn.metrics import classification_report\n",
    "from imblearn.over_sampling import SMOTE\n",
    "from imblearn.under_sampling import TomekLinks\n",
    "from sklearn import metrics\n",
    "from sklearn.tree import DecisionTreeClassifier\n",
    "from sklearn.model_selection import train_test_split\n",
    "from sklearn import tree\n",
    "\n",
    "import warnings\n",
    "warnings.filterwarnings('ignore')"
   ]
  },
  {
   "cell_type": "code",
   "execution_count": 56,
   "id": "c25f693d",
   "metadata": {},
   "outputs": [
    {
     "data": {
      "text/html": [
       "<div>\n",
       "<style scoped>\n",
       "    .dataframe tbody tr th:only-of-type {\n",
       "        vertical-align: middle;\n",
       "    }\n",
       "\n",
       "    .dataframe tbody tr th {\n",
       "        vertical-align: top;\n",
       "    }\n",
       "\n",
       "    .dataframe thead th {\n",
       "        text-align: right;\n",
       "    }\n",
       "</style>\n",
       "<table border=\"1\" class=\"dataframe\">\n",
       "  <thead>\n",
       "    <tr style=\"text-align: right;\">\n",
       "      <th></th>\n",
       "      <th>gender</th>\n",
       "      <th>SeniorCitizen</th>\n",
       "      <th>Partner</th>\n",
       "      <th>Dependents</th>\n",
       "      <th>tenure</th>\n",
       "      <th>PhoneService</th>\n",
       "      <th>OnlineSecurity</th>\n",
       "      <th>OnlineBackup</th>\n",
       "      <th>DeviceProtection</th>\n",
       "      <th>TechSupport</th>\n",
       "      <th>StreamingTV</th>\n",
       "      <th>StreamingMovies</th>\n",
       "      <th>Contract</th>\n",
       "      <th>MonthlyCharges</th>\n",
       "      <th>TotalCharges</th>\n",
       "      <th>Churn</th>\n",
       "    </tr>\n",
       "  </thead>\n",
       "  <tbody>\n",
       "    <tr>\n",
       "      <th>0</th>\n",
       "      <td>Female</td>\n",
       "      <td>0</td>\n",
       "      <td>Yes</td>\n",
       "      <td>No</td>\n",
       "      <td>1</td>\n",
       "      <td>No</td>\n",
       "      <td>No</td>\n",
       "      <td>Yes</td>\n",
       "      <td>No</td>\n",
       "      <td>No</td>\n",
       "      <td>No</td>\n",
       "      <td>No</td>\n",
       "      <td>Month-to-month</td>\n",
       "      <td>29.85</td>\n",
       "      <td>29.85</td>\n",
       "      <td>No</td>\n",
       "    </tr>\n",
       "    <tr>\n",
       "      <th>1</th>\n",
       "      <td>Male</td>\n",
       "      <td>0</td>\n",
       "      <td>No</td>\n",
       "      <td>No</td>\n",
       "      <td>34</td>\n",
       "      <td>Yes</td>\n",
       "      <td>Yes</td>\n",
       "      <td>No</td>\n",
       "      <td>Yes</td>\n",
       "      <td>No</td>\n",
       "      <td>No</td>\n",
       "      <td>No</td>\n",
       "      <td>One year</td>\n",
       "      <td>56.95</td>\n",
       "      <td>1889.5</td>\n",
       "      <td>No</td>\n",
       "    </tr>\n",
       "    <tr>\n",
       "      <th>2</th>\n",
       "      <td>Male</td>\n",
       "      <td>0</td>\n",
       "      <td>No</td>\n",
       "      <td>No</td>\n",
       "      <td>2</td>\n",
       "      <td>Yes</td>\n",
       "      <td>Yes</td>\n",
       "      <td>Yes</td>\n",
       "      <td>No</td>\n",
       "      <td>No</td>\n",
       "      <td>No</td>\n",
       "      <td>No</td>\n",
       "      <td>Month-to-month</td>\n",
       "      <td>53.85</td>\n",
       "      <td>108.15</td>\n",
       "      <td>Yes</td>\n",
       "    </tr>\n",
       "    <tr>\n",
       "      <th>3</th>\n",
       "      <td>Male</td>\n",
       "      <td>0</td>\n",
       "      <td>No</td>\n",
       "      <td>No</td>\n",
       "      <td>45</td>\n",
       "      <td>No</td>\n",
       "      <td>Yes</td>\n",
       "      <td>No</td>\n",
       "      <td>Yes</td>\n",
       "      <td>Yes</td>\n",
       "      <td>No</td>\n",
       "      <td>No</td>\n",
       "      <td>One year</td>\n",
       "      <td>42.30</td>\n",
       "      <td>1840.75</td>\n",
       "      <td>No</td>\n",
       "    </tr>\n",
       "    <tr>\n",
       "      <th>4</th>\n",
       "      <td>Female</td>\n",
       "      <td>0</td>\n",
       "      <td>No</td>\n",
       "      <td>No</td>\n",
       "      <td>2</td>\n",
       "      <td>Yes</td>\n",
       "      <td>No</td>\n",
       "      <td>No</td>\n",
       "      <td>No</td>\n",
       "      <td>No</td>\n",
       "      <td>No</td>\n",
       "      <td>No</td>\n",
       "      <td>Month-to-month</td>\n",
       "      <td>70.70</td>\n",
       "      <td>151.65</td>\n",
       "      <td>Yes</td>\n",
       "    </tr>\n",
       "  </tbody>\n",
       "</table>\n",
       "</div>"
      ],
      "text/plain": [
       "   gender  SeniorCitizen Partner Dependents  tenure PhoneService  \\\n",
       "0  Female              0     Yes         No       1           No   \n",
       "1    Male              0      No         No      34          Yes   \n",
       "2    Male              0      No         No       2          Yes   \n",
       "3    Male              0      No         No      45           No   \n",
       "4  Female              0      No         No       2          Yes   \n",
       "\n",
       "  OnlineSecurity OnlineBackup DeviceProtection TechSupport StreamingTV  \\\n",
       "0             No          Yes               No          No          No   \n",
       "1            Yes           No              Yes          No          No   \n",
       "2            Yes          Yes               No          No          No   \n",
       "3            Yes           No              Yes         Yes          No   \n",
       "4             No           No               No          No          No   \n",
       "\n",
       "  StreamingMovies        Contract  MonthlyCharges TotalCharges Churn  \n",
       "0              No  Month-to-month           29.85        29.85    No  \n",
       "1              No        One year           56.95       1889.5    No  \n",
       "2              No  Month-to-month           53.85       108.15   Yes  \n",
       "3              No        One year           42.30      1840.75    No  \n",
       "4              No  Month-to-month           70.70       151.65   Yes  "
      ]
     },
     "execution_count": 56,
     "metadata": {},
     "output_type": "execute_result"
    }
   ],
   "source": [
    "churnData = pd.read_csv('Customer-Churn.csv')\n",
    "churnData.head()"
   ]
  },
  {
   "cell_type": "code",
   "execution_count": 57,
   "id": "a293b997",
   "metadata": {},
   "outputs": [],
   "source": [
    "def get_started(data): \n",
    "      data.columns = [column.lower().replace(' ', '_').replace('#_','') for column in data.columns]\n",
    "      print(\"shape dataframe: \", data.shape, data.info())"
   ]
  },
  {
   "cell_type": "code",
   "execution_count": 58,
   "id": "414bf65f",
   "metadata": {},
   "outputs": [
    {
     "name": "stdout",
     "output_type": "stream",
     "text": [
      "<class 'pandas.core.frame.DataFrame'>\n",
      "RangeIndex: 7043 entries, 0 to 7042\n",
      "Data columns (total 16 columns):\n",
      " #   Column            Non-Null Count  Dtype  \n",
      "---  ------            --------------  -----  \n",
      " 0   gender            7043 non-null   object \n",
      " 1   seniorcitizen     7043 non-null   int64  \n",
      " 2   partner           7043 non-null   object \n",
      " 3   dependents        7043 non-null   object \n",
      " 4   tenure            7043 non-null   int64  \n",
      " 5   phoneservice      7043 non-null   object \n",
      " 6   onlinesecurity    7043 non-null   object \n",
      " 7   onlinebackup      7043 non-null   object \n",
      " 8   deviceprotection  7043 non-null   object \n",
      " 9   techsupport       7043 non-null   object \n",
      " 10  streamingtv       7043 non-null   object \n",
      " 11  streamingmovies   7043 non-null   object \n",
      " 12  contract          7043 non-null   object \n",
      " 13  monthlycharges    7043 non-null   float64\n",
      " 14  totalcharges      7043 non-null   object \n",
      " 15  churn             7043 non-null   object \n",
      "dtypes: float64(1), int64(2), object(13)\n",
      "memory usage: 880.5+ KB\n",
      "shape dataframe:  (7043, 16) None\n"
     ]
    }
   ],
   "source": [
    "get_started(churnData)"
   ]
  },
  {
   "cell_type": "code",
   "execution_count": 59,
   "id": "f79b152f",
   "metadata": {},
   "outputs": [
    {
     "data": {
      "text/plain": [
       "Index(['gender', 'seniorcitizen', 'partner', 'dependents', 'tenure',\n",
       "       'phoneservice', 'onlinesecurity', 'onlinebackup', 'deviceprotection',\n",
       "       'techsupport', 'streamingtv', 'streamingmovies', 'contract',\n",
       "       'monthlycharges', 'totalcharges', 'churn'],\n",
       "      dtype='object')"
      ]
     },
     "execution_count": 59,
     "metadata": {},
     "output_type": "execute_result"
    }
   ],
   "source": [
    "churnData.columns"
   ]
  },
  {
   "cell_type": "code",
   "execution_count": 60,
   "id": "ae7f29eb",
   "metadata": {},
   "outputs": [],
   "source": [
    "churnData['totalcharges'] = pd.to_numeric(churnData['totalcharges'], errors='coerce')"
   ]
  },
  {
   "cell_type": "markdown",
   "id": "a6fb09bc",
   "metadata": {},
   "source": [
    "4.) Check for null values in the dataframe. Replace the null values."
   ]
  },
  {
   "cell_type": "code",
   "execution_count": 61,
   "id": "4705f339",
   "metadata": {},
   "outputs": [],
   "source": [
    "def percantage_null(data):\n",
    "    nulls = pd.DataFrame(data.isna().sum()*100/len(data), columns=['percentage'])\n",
    "    print(nulls.sort_values('percentage', ascending = False))"
   ]
  },
  {
   "cell_type": "code",
   "execution_count": 62,
   "id": "76b89ae3",
   "metadata": {},
   "outputs": [
    {
     "name": "stdout",
     "output_type": "stream",
     "text": [
      "                  percentage\n",
      "totalcharges        0.156183\n",
      "gender              0.000000\n",
      "seniorcitizen       0.000000\n",
      "partner             0.000000\n",
      "dependents          0.000000\n",
      "tenure              0.000000\n",
      "phoneservice        0.000000\n",
      "onlinesecurity      0.000000\n",
      "onlinebackup        0.000000\n",
      "deviceprotection    0.000000\n",
      "techsupport         0.000000\n",
      "streamingtv         0.000000\n",
      "streamingmovies     0.000000\n",
      "contract            0.000000\n",
      "monthlycharges      0.000000\n",
      "churn               0.000000\n"
     ]
    }
   ],
   "source": [
    "percantage_null(churnData)"
   ]
  },
  {
   "cell_type": "code",
   "execution_count": 63,
   "id": "88c91f54",
   "metadata": {},
   "outputs": [],
   "source": [
    "def replace_by_mean(data, columns = []):\n",
    "    for i in columns:\n",
    "        data[i].fillna(data[i].mean(), inplace = True)"
   ]
  },
  {
   "cell_type": "code",
   "execution_count": 64,
   "id": "738fb927",
   "metadata": {},
   "outputs": [],
   "source": [
    "replace_by_mean(churnData, columns = [\"totalcharges\"])"
   ]
  },
  {
   "cell_type": "code",
   "execution_count": 65,
   "id": "83a062a7",
   "metadata": {},
   "outputs": [
    {
     "name": "stdout",
     "output_type": "stream",
     "text": [
      "                  percentage\n",
      "gender                   0.0\n",
      "seniorcitizen            0.0\n",
      "partner                  0.0\n",
      "dependents               0.0\n",
      "tenure                   0.0\n",
      "phoneservice             0.0\n",
      "onlinesecurity           0.0\n",
      "onlinebackup             0.0\n",
      "deviceprotection         0.0\n",
      "techsupport              0.0\n",
      "streamingtv              0.0\n",
      "streamingmovies          0.0\n",
      "contract                 0.0\n",
      "monthlycharges           0.0\n",
      "totalcharges             0.0\n",
      "churn                    0.0\n"
     ]
    }
   ],
   "source": [
    "percantage_null(churnData)"
   ]
  },
  {
   "cell_type": "markdown",
   "id": "db316038",
   "metadata": {},
   "source": [
    "1) Use logistic regression to fit the model and compute the accuracy of the model."
   ]
  },
  {
   "cell_type": "markdown",
   "id": "3fbfaeb5",
   "metadata": {},
   "source": [
    "Descided to use the same columns like in the lab before "
   ]
  },
  {
   "cell_type": "code",
   "execution_count": 66,
   "id": "00f31375",
   "metadata": {},
   "outputs": [],
   "source": [
    "X = churnData[['seniorcitizen', 'tenure', 'monthlycharges', 'totalcharges']]\n",
    "y = churnData['churn']"
   ]
  },
  {
   "cell_type": "code",
   "execution_count": 67,
   "id": "3753e689",
   "metadata": {},
   "outputs": [
    {
     "data": {
      "text/plain": [
       "(7043, 4)"
      ]
     },
     "execution_count": 67,
     "metadata": {},
     "output_type": "execute_result"
    }
   ],
   "source": [
    "transformer = Normalizer() \n",
    "transformer.fit(X)\n",
    "x_normalized = transformer.transform(X)\n",
    "x_normalized.shape"
   ]
  },
  {
   "cell_type": "code",
   "execution_count": 68,
   "id": "573017ab",
   "metadata": {},
   "outputs": [
    {
     "data": {
      "text/plain": [
       "No     5174\n",
       "Yes    5174\n",
       "Name: churn, dtype: int64"
      ]
     },
     "execution_count": 68,
     "metadata": {},
     "output_type": "execute_result"
    }
   ],
   "source": [
    "smote = SMOTE()\n",
    "X_sm, y_sm = smote.fit_resample(X, y)\n",
    "y_sm.value_counts()"
   ]
  },
  {
   "cell_type": "code",
   "execution_count": 69,
   "id": "945e196c",
   "metadata": {},
   "outputs": [
    {
     "name": "stdout",
     "output_type": "stream",
     "text": [
      "              precision    recall  f1-score   support\n",
      "\n",
      "          No       0.77      0.68      0.72      1052\n",
      "         Yes       0.71      0.78      0.74      1018\n",
      "\n",
      "    accuracy                           0.73      2070\n",
      "   macro avg       0.74      0.73      0.73      2070\n",
      "weighted avg       0.74      0.73      0.73      2070\n",
      "\n",
      "accuracy score for smote + logistic regression: 0.7333333333333333\n"
     ]
    }
   ],
   "source": [
    "X_train, X_test, y_train, y_test = train_test_split(X_sm, y_sm, test_size=0.2, random_state=100)\n",
    "model = LogisticRegression()\n",
    "model.fit(X_train,y_train)\n",
    "preds = model.predict(X_test)\n",
    "print(classification_report(y_test, preds))\n",
    "score_sm_class = model.score(X_test, y_test)\n",
    "print(\"accuracy score for smote + logistic regression:\", score_sm_class)"
   ]
  },
  {
   "cell_type": "markdown",
   "id": "f9a61bb7",
   "metadata": {},
   "source": [
    "2) Use decision tree classifier to fit the model and compute the accuracy of the model."
   ]
  },
  {
   "cell_type": "code",
   "execution_count": 70,
   "id": "e8965a18",
   "metadata": {},
   "outputs": [
    {
     "name": "stdout",
     "output_type": "stream",
     "text": [
      "(7043, 4)\n",
      "(7043,)\n"
     ]
    }
   ],
   "source": [
    "import pandas as pd\n",
    "from sklearn.datasets import load_iris\n",
    "X_sm, y_sm = load_iris(return_X_y=True)\n",
    "print(X.shape)\n",
    "print(y.shape)"
   ]
  },
  {
   "cell_type": "code",
   "execution_count": 71,
   "id": "0ab05382",
   "metadata": {},
   "outputs": [
    {
     "name": "stdout",
     "output_type": "stream",
     "text": [
      "              precision    recall  f1-score   support\n",
      "\n",
      "           0       1.00      1.00      1.00        11\n",
      "           1       1.00      0.83      0.91         6\n",
      "           2       0.93      1.00      0.96        13\n",
      "\n",
      "    accuracy                           0.97        30\n",
      "   macro avg       0.98      0.94      0.96        30\n",
      "weighted avg       0.97      0.97      0.97        30\n",
      "\n",
      "accuracy score for smote + decision tree: 0.9666666666666667\n"
     ]
    }
   ],
   "source": [
    "X_train, X_test, y_train, y_test = train_test_split(X_sm, y_sm, test_size=0.2, random_state=100)\n",
    "model = DecisionTreeClassifier()\n",
    "model.fit(X_train, y_train)\n",
    "preds = model.predict(X_test)\n",
    "print(classification_report(y_test, preds))\n",
    "score_sm_dec = model.score(X_test, y_test)\n",
    "print(\"accuracy score for smote + decision tree:\", score_sm_dec)"
   ]
  },
  {
   "cell_type": "code",
   "execution_count": 72,
   "id": "7f649780",
   "metadata": {},
   "outputs": [
    {
     "data": {
      "image/png": "[encoded data removed]",
      "text/plain": [
       "<Figure size 432x288 with 1 Axes>"
      ]
     },
     "metadata": {
      "needs_background": "light"
     },
     "output_type": "display_data"
    }
   ],
   "source": [
    "tree.plot_tree(model);"
   ]
  },
  {
   "cell_type": "markdown",
   "id": "8302aeac",
   "metadata": {},
   "source": [
    "3) Compare the accuracies of the two models."
   ]
  },
  {
   "cell_type": "code",
   "execution_count": 73,
   "id": "95c3f751",
   "metadata": {},
   "outputs": [
    {
     "name": "stdout",
     "output_type": "stream",
     "text": [
      "accuracy score for smote + logistic regression: 0.7333333333333333\n",
      "accuracy score for smote + decision tree: 0.9666666666666667\n"
     ]
    }
   ],
   "source": [
    "print(\"accuracy score for smote + logistic regression:\", score_sm_class)\n",
    "print(\"accuracy score for smote + decision tree:\", score_sm_dec)"
   ]
  },
  {
   "cell_type": "markdown",
   "id": "8bab8c90",
   "metadata": {},
   "source": [
    "## Apply TomekLinks for downsampling"
   ]
  },
  {
   "cell_type": "code",
   "execution_count": 74,
   "id": "5d52f955",
   "metadata": {},
   "outputs": [],
   "source": [
    "X = churnData[['seniorcitizen', 'tenure', 'monthlycharges', 'totalcharges']]\n",
    "y = churnData['churn']"
   ]
  },
  {
   "cell_type": "code",
   "execution_count": 75,
   "id": "90451e2e",
   "metadata": {},
   "outputs": [
    {
     "data": {
      "text/plain": [
       "(7043, 4)"
      ]
     },
     "execution_count": 75,
     "metadata": {},
     "output_type": "execute_result"
    }
   ],
   "source": [
    "transformer = Normalizer() \n",
    "transformer.fit(X)\n",
    "x_normalized = transformer.transform(X)\n",
    "x_normalized.shape"
   ]
  },
  {
   "cell_type": "code",
   "execution_count": 76,
   "id": "354cd206",
   "metadata": {},
   "outputs": [
    {
     "data": {
      "text/plain": [
       "No     4620\n",
       "Yes    1869\n",
       "Name: churn, dtype: int64"
      ]
     },
     "execution_count": 76,
     "metadata": {},
     "output_type": "execute_result"
    }
   ],
   "source": [
    "tomek = TomekLinks()\n",
    "X_tl, y_tl = tomek.fit_resample(X, y)\n",
    "y_tl.value_counts()"
   ]
  },
  {
   "cell_type": "markdown",
   "id": "414a92de",
   "metadata": {},
   "source": [
    "4) Use logistic regression to fit the model and compute the accuracy of the model."
   ]
  },
  {
   "cell_type": "code",
   "execution_count": 77,
   "id": "cb7a9c8c",
   "metadata": {},
   "outputs": [
    {
     "name": "stdout",
     "output_type": "stream",
     "text": [
      "              precision    recall  f1-score   support\n",
      "\n",
      "          No       0.83      0.90      0.86       891\n",
      "         Yes       0.73      0.59      0.65       407\n",
      "\n",
      "    accuracy                           0.80      1298\n",
      "   macro avg       0.78      0.74      0.76      1298\n",
      "weighted avg       0.80      0.80      0.80      1298\n",
      "\n",
      "accuracy score for tomek + logistic regression: 0.802773497688752\n"
     ]
    }
   ],
   "source": [
    "X_train, X_test, y_train, y_test = train_test_split(X_tl, y_tl, test_size=0.2, random_state=100)\n",
    "model = LogisticRegression()\n",
    "model.fit(X_train,y_train)\n",
    "preds = model.predict(X_test)\n",
    "print(classification_report(y_test, preds))\n",
    "score_tom_class = model.score(X_test, y_test)\n",
    "print(\"accuracy score for tomek + logistic regression:\", score_tom_class)"
   ]
  },
  {
   "cell_type": "markdown",
   "id": "a5272f05",
   "metadata": {},
   "source": [
    "5) Use decision tree classifier to fit the model and compute the accuracy of the model."
   ]
  },
  {
   "cell_type": "code",
   "execution_count": 78,
   "id": "101487a7",
   "metadata": {},
   "outputs": [
    {
     "name": "stdout",
     "output_type": "stream",
     "text": [
      "(7043, 4)\n",
      "(7043,)\n"
     ]
    }
   ],
   "source": [
    "X_tl, y_tl = load_iris(return_X_y=True)\n",
    "print(X.shape)\n",
    "print(y.shape)"
   ]
  },
  {
   "cell_type": "code",
   "execution_count": 79,
   "id": "adec5786",
   "metadata": {},
   "outputs": [
    {
     "name": "stdout",
     "output_type": "stream",
     "text": [
      "              precision    recall  f1-score   support\n",
      "\n",
      "           0       1.00      1.00      1.00        11\n",
      "           1       1.00      0.83      0.91         6\n",
      "           2       0.93      1.00      0.96        13\n",
      "\n",
      "    accuracy                           0.97        30\n",
      "   macro avg       0.98      0.94      0.96        30\n",
      "weighted avg       0.97      0.97      0.97        30\n",
      "\n",
      "accuracy score for tomek + decision tree: 0.9666666666666667\n"
     ]
    }
   ],
   "source": [
    "X_train, X_test, y_train, y_test = train_test_split(X_tl, y_tl, test_size=0.2, random_state=100)\n",
    "model = DecisionTreeClassifier()\n",
    "model.fit(X_train, y_train)\n",
    "preds = model.predict(X_test)\n",
    "print(classification_report(y_test, preds))\n",
    "score_tom_dec = model.score(X_test, y_test)\n",
    "print(\"accuracy score for tomek + decision tree:\", score_tom_dec)"
   ]
  },
  {
   "cell_type": "code",
   "execution_count": 80,
   "id": "b7ff15fe",
   "metadata": {},
   "outputs": [
    {
     "data": {
      "image/png": "[encoded data removed]",
      "text/plain": [
       "<Figure size 432x288 with 1 Axes>"
      ]
     },
     "metadata": {
      "needs_background": "light"
     },
     "output_type": "display_data"
    }
   ],
   "source": [
    "from sklearn import tree\n",
    "\n",
    "tree.plot_tree(model);"
   ]
  },
  {
   "cell_type": "markdown",
   "id": "31c7adb8",
   "metadata": {},
   "source": [
    "6) Compare the accuracies of the two models."
   ]
  },
  {
   "cell_type": "code",
   "execution_count": 81,
   "id": "1742198f",
   "metadata": {},
   "outputs": [
    {
     "name": "stdout",
     "output_type": "stream",
     "text": [
      "accuracy score for tomek + logistic regression: 0.802773497688752\n",
      "accuracy score for tomek + decision tree: 0.9666666666666667\n"
     ]
    }
   ],
   "source": [
    "print(\"accuracy score for tomek + logistic regression:\", score_tom_class)\n",
    "print(\"accuracy score for tomek + decision tree:\", score_tom_dec)"
   ]
  }
 ],
 "metadata": {
  "kernelspec": {
   "display_name": "Python 3",
   "language": "python",
   "name": "python3"
  },
  "language_info": {
   "codemirror_mode": {
    "name": "ipython",
    "version": 3
   },
   "file_extension": ".py",
   "mimetype": "text/x-python",
   "name": "python",
   "nbconvert_exporter": "python",
   "pygments_lexer": "ipython3",
   "version": "3.8.8"
  }
 },
 "nbformat": 4,
 "nbformat_minor": 5
}
